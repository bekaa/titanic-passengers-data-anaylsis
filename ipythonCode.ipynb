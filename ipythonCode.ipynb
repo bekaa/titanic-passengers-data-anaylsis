{
 "cells": [
  {
   "cell_type": "markdown",
   "metadata": {},
   "source": [
    "# TITANIC"
   ]
  },
  {
   "cell_type": "markdown",
   "metadata": {},
   "source": [
    "** this notebook assumes that you came from the report on the link below :**\n",
    "\n",
    "** https://khaledsalahblog.wordpress.com/titanic/**\n",
    "\n",
    "\n",
    "** if not , you should visit the blog first. **\n",
    "\n",
    "**all the data sets and code files could be found on this link :             https://www.dropbox.com/sh/6ngfynmla5thndv/AABI_aQIO1VHsqWG0L5MdALKa?dl=0  **\n",
    "\n"
   ]
  },
  {
   "cell_type": "code",
   "execution_count": 432,
   "metadata": {
    "collapsed": true
   },
   "outputs": [],
   "source": [
    "import pandas as pd\n",
    "import numpy as np\n",
    "import seaborn as sns\n",
    "import matplotlib.pyplot as plt\n",
    "%matplotlib inline\n",
    "\n",
    "titanic = pd.read_csv(\"./titanic-data.csv\",header=0)\n"
   ]
  },
  {
   "cell_type": "markdown",
   "metadata": {},
   "source": [
    "# 1. CLEANING DATA"
   ]
  },
  {
   "cell_type": "markdown",
   "metadata": {},
   "source": [
    "##  we will search for missing/unreliable data , make a new data set with cleaned data, and make it possible for me to print out the faulty data \n"
   ]
  },
  {
   "cell_type": "markdown",
   "metadata": {},
   "source": [
    " I will check the important fields i'll need for my analysis which are ['Survived', 'Sex', 'Age', 'Pclass']\n",
    " and make a new data frame for the cleaned data\n",
    "\n",
    ">titanic_cleaned = titanic.apply(clean_data, axis=1)\n",
    "\n",
    " i'll apply the function clean_data  and return a data frame includes all the rows \n",
    "   that do NOT have any missing/unreliable fields.\n"
   ]
  },
  {
   "cell_type": "code",
   "execution_count": 433,
   "metadata": {
    "collapsed": false
   },
   "outputs": [],
   "source": [
    "# a data frame that will contains the cleaned data\n",
    "titanic_cleaned=pd.DataFrame(columns=titanic.columns)\n",
    "\n",
    "# a data frame that will contains the  rows that contains missing/unreliable data\n",
    "titanic_unreliable_rows = pd.DataFrame(columns=titanic.columns)\n",
    "\n",
    "def clean_data(person):\n",
    "    #now for each person I'll check the 4 columns : ['Survived', 'Sex', 'Age', 'Pclass'] and if any of them\\\n",
    "    #  has unwanted data , i'll return None , otherwise i'll return the row\n",
    "    #  and i'll add the unreliable row to the df titanic_unreliable_rows\n",
    "    \n",
    "    if  person['Survived'] not in [0,1] or \\\n",
    "        person['Sex'] not in ['male','female'] or \\\n",
    "        np.isnan(person['Age']) or \\\n",
    "        person['Pclass'] not in [1,2,3] :\n",
    "            \n",
    "            titanic_unreliable_rows.loc[len(titanic_unreliable_rows)] = person\n",
    "            return None\n",
    "      \n",
    "    return person # it will reach this line if all the if conditions are false then the line is good\n",
    "\n",
    "#apply the function to each row\n",
    "titanic_cleaned=titanic.apply(clean_data, axis=1) \n",
    "\n",
    "#drop all the None rows in place\n",
    "titanic_cleaned.dropna(axis=0,how='all',inplace=True)\n",
    "\n",
    "# uncomment the next comment to view the new data set\n",
    "#titanic_cleaned"
   ]
  },
  {
   "cell_type": "markdown",
   "metadata": {},
   "source": [
    "### The function below print out the faulty rows to the std output :"
   ]
  },
  {
   "cell_type": "code",
   "execution_count": 434,
   "metadata": {
    "collapsed": false
   },
   "outputs": [
    {
     "name": "stdout",
     "output_type": "stream",
     "text": [
      "number of rows that has unreliable/missing Age values are : 177, \n",
      "number of rows that has unreliable/missing Pclass values are : 0, \n",
      "number of rows that has unreliable/missing Sex values are : 0, \n",
      "number of rows that has unreliable/missing Survived values are : 0. \n",
      "\n"
     ]
    }
   ],
   "source": [
    "# this function prints some information about the dataframe we made \"titanic_unreliable_rows\" \n",
    "# it has on optional argument \"Columns\" which is a list of one or more of the columns [Age,Pclass,Sex,Survived].\n",
    "#     if the argument has on or more of this values it will print out it's unrelieable rows.\n",
    "#     and if not , this function will only print the number of faulty rows for each column .\n",
    "def titanic_cleaning_INFO(columns=None):\n",
    "    \n",
    "    #make new 4 dataframes contains  the faulty data for each columns .\n",
    "    faulty_age      = titanic_unreliable_rows[  np.isnan(titanic_unreliable_rows['Age']) ]\n",
    "    faulty_pclass   = titanic_unreliable_rows[  ~titanic_unreliable_rows['Pclass'].isin([1,2,3]) ]\n",
    "    faulty_sex      = titanic_unreliable_rows[  ~titanic_unreliable_rows['Sex'].isin(['male','female']) ]\n",
    "    faulty_survived = titanic_unreliable_rows[  ~titanic_unreliable_rows['Survived'].isin([0,1]) ]\n",
    "        \n",
    "    # print out the number of rows in each of them     \n",
    "    print \\\n",
    "\"number of rows that has unreliable/missing Age values are : {0}, \\n\\\n",
    "number of rows that has unreliable/missing Pclass values are : {1}, \\n\\\n",
    "number of rows that has unreliable/missing Sex values are : {2}, \\n\\\n",
    "number of rows that has unreliable/missing Survived values are : {3}. \\n\" \\\n",
    "            .format(len(faulty_age),\\\n",
    "                   len(faulty_pclass),\n",
    "                   len(faulty_sex),\n",
    "                   len(faulty_survived) )\n",
    "\n",
    "    \n",
    "    \n",
    "    \n",
    "    # if columns != None , print the df corresponds to argument\n",
    "    if columns :\n",
    "        # if columns is one variable \"string\" then make it a list so I can iterate on it .\n",
    "        if type(columns) != list :  columns = [columns] \n",
    "            \n",
    "        for column in columns :\n",
    "            if column   == 'Age'      :   print faulty_age\n",
    "            elif column == 'Pclass'   :   print faulty_pclass\n",
    "            elif column == 'Sex'      :   print faulty_sex\n",
    "            elif column == 'Survived' :   print faulty_survived\n",
    "            else : \n",
    "                print \"wrong argument : {0}\\n\".format(column) #for wrong data\n",
    "\n",
    "                \n",
    "#now it's time to use it .\n",
    "titanic_cleaning_INFO() "
   ]
  },
  {
   "cell_type": "markdown",
   "metadata": {
    "collapsed": false
   },
   "source": [
    "### Save the data locally so I can import it to excel/google-sheets and analyse it"
   ]
  },
  {
   "cell_type": "code",
   "execution_count": 435,
   "metadata": {
    "collapsed": true
   },
   "outputs": [],
   "source": [
    "#change it to True to execute\n",
    "if False :\n",
    "    titanic_cleaned.to_csv(\"./titanic_cleaned.csv\",index=False)"
   ]
  },
  {
   "cell_type": "markdown",
   "metadata": {
    "collapsed": false
   },
   "source": [
    "# ----------------------------------------------------------------------------------------"
   ]
  },
  {
   "cell_type": "markdown",
   "metadata": {},
   "source": [
    "# 2. TESTING VARIABLES"
   ]
  },
  {
   "cell_type": "markdown",
   "metadata": {},
   "source": [
    "## I'll test the three variables \"age\",\"sex\",\"Pclass\" as mentioned in the report."
   ]
  },
  {
   "cell_type": "code",
   "execution_count": 436,
   "metadata": {
    "collapsed": true
   },
   "outputs": [],
   "source": [
    "# first i'll write a function that will help me in testing the variables\n",
    "# the function will take a row with two columns as input [our variable, Survived ] , and will return 1 of it meets the assumption and 0 O.W .\n",
    "# then this function will be called with S.apply()\n",
    "\n",
    "def test_assum(S) :\n",
    "    #index 'Survived' should be always there, and S[1] should'nt be none\n",
    "    if not 'Survived' in S.index :\n",
    "        return -999\n",
    "    if S[1] == None : return 0\n",
    "    \n",
    "    #the variable \"SEX\"'s part\n",
    "    if 'Sex' in S.index :\n",
    "        if ( S['Sex'] == 'male' and not S['Survived'] ) or ( S['Sex'] == 'female' and S['Survived'] ) :\n",
    "            return 1\n",
    "        else:\n",
    "            return 0\n",
    "    #*******************************\n",
    "    \n",
    "    #the variable \"AGE\"'s part\n",
    "    elif 'Age' in S.index :\n",
    "        if ( S['Age'] <= 16 and S['Survived'] ) or ( S['Age'] >= 60 and S['Survived']) :\n",
    "            return 1\n",
    "        elif not S['Survived'] :\n",
    "            return 1\n",
    "        else :\n",
    "            return 0\n",
    "    #***************************************\n",
    "    \n",
    "    #the variable \"Pclass\"'s part\n",
    "    #here i'll calculate for cass 1 and class 3 only as class 2 has probability .5 , class 1 has 1 , class 3 has 0.        \n",
    "    elif 'Pclass' in S.index :\n",
    "        if ( S['Pclass'] == 1 and S['Survived'] ) or ( S['Pclass'] == 3 and not S['Survived'] ):\n",
    "            return 1\n",
    "        else :\n",
    "            return 0\n",
    "    #*********************************************************\n"
   ]
  },
  {
   "cell_type": "markdown",
   "metadata": {},
   "source": [
    "#### Now I will make pair of columns for each variable .\n",
    "####      titanic_cleaned[[ variable , 'Survived'] ]\n",
    "#### then we will apply the above function on each of them in separate cell , and get the output."
   ]
  },
  {
   "cell_type": "code",
   "execution_count": 437,
   "metadata": {
    "collapsed": false,
    "scrolled": false
   },
   "outputs": [
    {
     "name": "stdout",
     "output_type": "stream",
     "text": [
      "True age assumptions : 486, False age assumptions : 228\n",
      "Age is effective by : 68.07 %\n"
     ]
    }
   ],
   "source": [
    "# the variable \"AGE\" \n",
    "\n",
    "age_T = titanic_cleaned[['Survived','Age']].apply(test_assum, axis=1).sum(skipna=1)\n",
    "age_F = titanic_cleaned['Age'].count()-age_T\n",
    "age_p = (float(age_T)/(age_T+age_F))*100\n",
    "\n",
    "print \"True age assumptions : {0}, False age assumptions : {1}\\nAge is effective by : {2:.02f} %\"\\\n",
    "                                                                     .format(age_T,age_F,age_p)"
   ]
  },
  {
   "cell_type": "code",
   "execution_count": 438,
   "metadata": {
    "collapsed": false
   },
   "outputs": [
    {
     "name": "stdout",
     "output_type": "stream",
     "text": [
      "True sex assumptions : 557, False sex assumptions : 157\n",
      "Gender is effective by : 78.01 %\n"
     ]
    }
   ],
   "source": [
    "#the variable \"SEX\"\n",
    "\n",
    "sex_T = titanic_cleaned[['Survived','Sex']].apply(test_assum, axis=1).sum(skipna=1)\n",
    "sex_F = titanic_cleaned['Sex'].count()-sex_T\n",
    "sex_p = (float(sex_T)/(sex_T+sex_F))*100\n",
    "print \"True sex assumptions : {0}, False sex assumptions : {1}\\nGender is effective by : {2:.02f} %\"\\\n",
    "                                                                        .format(sex_T,sex_F,sex_p)"
   ]
  },
  {
   "cell_type": "code",
   "execution_count": 439,
   "metadata": {
    "collapsed": false
   },
   "outputs": [
    {
     "name": "stdout",
     "output_type": "stream",
     "text": [
      "True Pclass assumptions : 392, False Pclass assumptions : 149\n",
      "Passenger's class is effective by : 72.46 %\n"
     ]
    }
   ],
   "source": [
    "#the variable \"Pclass\"\n",
    "\n",
    "class_T = titanic_cleaned[['Survived','Pclass']].apply(test_assum, axis=1).sum(skipna=1)\n",
    "class_F = titanic_cleaned[titanic_cleaned['Pclass'] != 2 ]['Pclass'].count()-class_T\n",
    "class_p = (float(class_T)/(class_T+class_F))*100\n",
    "print \"True Pclass assumptions : {0}, False Pclass assumptions : {1}\\nPassenger's class is effective by : {2:.02f} %\"\\\n",
    "                                                                        .format(class_T,class_F,class_p)"
   ]
  },
  {
   "cell_type": "markdown",
   "metadata": {
    "collapsed": false
   },
   "source": [
    "# ----------------------------------------------------------------------------------------"
   ]
  },
  {
   "cell_type": "markdown",
   "metadata": {},
   "source": [
    "# 3. LIKELY SURVIVED"
   ]
  },
  {
   "cell_type": "markdown",
   "metadata": {},
   "source": [
    "#### add a new column to our data-set \"titanic_cleaned\" called \"LS\" [likely survived] which contains the percentage of every passenger of how likely he should survive"
   ]
  },
  {
   "cell_type": "code",
   "execution_count": 440,
   "metadata": {
    "collapsed": true
   },
   "outputs": [],
   "source": [
    "# make a list to hold the values of the new columns , it's index will be the passengers' IDs\n",
    "LS= pd.Series(index=titanic_cleaned['PassengerId'])"
   ]
  },
  {
   "cell_type": "code",
   "execution_count": 441,
   "metadata": {
    "collapsed": true
   },
   "outputs": [],
   "source": [
    "#here I will define a function takes a passenger \"row of the data set\" and return it's P value .\n",
    "\n",
    "def calculate_P(passenger):\n",
    "    AF =  31.15\n",
    "    SF =  35.7 \n",
    "    CF =  33.16\n",
    "\n",
    "    if  60 > passenger['Age'] > 16 :\n",
    "        A = 0\n",
    "    else :\n",
    "        A = 1\n",
    "    \n",
    "    if passenger['Sex'] == 'female' :\n",
    "        S = 1\n",
    "    else :\n",
    "        S = 0\n",
    "    \n",
    "    if passenger['Pclass'] == 1 :\n",
    "        C = 1\n",
    "    elif passenger['Pclass'] == 2 :\n",
    "        C = .5\n",
    "    else :\n",
    "        C = 0\n",
    "    \n",
    "    P = A*AF + S*SF +  C*CF\n",
    "    \n",
    "    return  P\n"
   ]
  },
  {
   "cell_type": "code",
   "execution_count": 442,
   "metadata": {
    "collapsed": false
   },
   "outputs": [],
   "source": [
    "# after we wrote the function .. we will apply it to each row in the data set\n",
    "\n",
    "LS=titanic_cleaned.apply(calculate_P, axis=1)\n",
    "\n",
    "#uncomment the below line to print out the series\n",
    "#LS"
   ]
  },
  {
   "cell_type": "code",
   "execution_count": 443,
   "metadata": {
    "collapsed": true
   },
   "outputs": [],
   "source": [
    "# the last step ,  we will add the series into the data-set as a column\n",
    "\n",
    "titanic_cleaned['LS'] = LS"
   ]
  },
  {
   "cell_type": "code",
   "execution_count": 444,
   "metadata": {
    "collapsed": true
   },
   "outputs": [],
   "source": [
    "# And save the data set to a CSV file.\n",
    "#change it to True to execute\n",
    "if False :\n",
    "    titanic_cleaned.to_csv(\"./titanic_cleaned.csv\",index=False)"
   ]
  },
  {
   "cell_type": "markdown",
   "metadata": {
    "collapsed": false
   },
   "source": [
    "# ----------------------------------------------------------------------------------------"
   ]
  },
  {
   "cell_type": "markdown",
   "metadata": {},
   "source": [
    "# 4. RESULTS' CHECK"
   ]
  },
  {
   "cell_type": "markdown",
   "metadata": {},
   "source": [
    "### I'll test the results of the new column and compare it to the column 'survived' and calculate in percentages how this data is accurate ."
   ]
  },
  {
   "cell_type": "code",
   "execution_count": 445,
   "metadata": {
    "collapsed": false
   },
   "outputs": [],
   "source": [
    "# calculate how many True data which is how many passengers with lower than 50%LS is dead plus how many passengers \\\n",
    "#     with higher than 50%LS is survived\n",
    "\n",
    "#this function would help me.\n",
    "#it takes a series of two elements ['Survived','LS'] and return 0 or 1 .\n",
    "#this function works the same way as the function test_assum\n",
    "\n",
    "def test_results(S):\n",
    "    if  'LS' not in S.index or 'Survived' not in S.index :\n",
    "        return -999 #return error\n",
    "    \n",
    "    if S['LS'] >= 50 and S['Survived'] == 1 :\n",
    "        return 1\n",
    "    elif S['LS'] < 50 and S['Survived'] == 0 :\n",
    "        return 1\n",
    "    else :\n",
    "        return 0\n",
    "    \n",
    "    "
   ]
  },
  {
   "cell_type": "code",
   "execution_count": 446,
   "metadata": {
    "collapsed": false
   },
   "outputs": [
    {
     "name": "stdout",
     "output_type": "stream",
     "text": [
      "there are 562 True results, and 152 False results \n",
      " The prediction was accurate by : 78.71% \n"
     ]
    }
   ],
   "source": [
    "#now I call the function and send to it a series of the two columns\n",
    "\n",
    "results_True = titanic_cleaned[['Survived','LS']].apply(test_results, axis=1).sum(skipna=1)\n",
    "results_False = titanic_cleaned['LS'].count() - results_True\n",
    "results_perc =(float(results_True)/titanic_cleaned['LS'].count())*100\n",
    "print \"there are {0} True results, and {1} False results \\n The prediction was accurate by : {2:.02f}% \"\\\n",
    "                                        .format(results_True,results_False,results_perc)"
   ]
  },
  {
   "cell_type": "markdown",
   "metadata": {
    "collapsed": false
   },
   "source": [
    "# ----------------------------------------------------------------------------------------"
   ]
  },
  {
   "cell_type": "markdown",
   "metadata": {},
   "source": [
    "# 5. FILL THE MISSING AGE VALUES"
   ]
  },
  {
   "cell_type": "markdown",
   "metadata": {},
   "source": [
    "### First lets produce some statistics about the relation between Age and 'gender, Survival and pclass'"
   ]
  },
  {
   "cell_type": "code",
   "execution_count": 447,
   "metadata": {
    "collapsed": false
   },
   "outputs": [
    {
     "data": {
      "text/html": [
       "<div>\n",
       "<table border=\"1\" class=\"dataframe\">\n",
       "  <thead>\n",
       "    <tr style=\"text-align: right;\">\n",
       "      <th></th>\n",
       "      <th>Age</th>\n",
       "      <th>Survived</th>\n",
       "      <th>Pclass</th>\n",
       "    </tr>\n",
       "  </thead>\n",
       "  <tbody>\n",
       "    <tr>\n",
       "      <th>Age</th>\n",
       "      <td>1.000000</td>\n",
       "      <td>-0.077221</td>\n",
       "      <td>-0.369226</td>\n",
       "    </tr>\n",
       "    <tr>\n",
       "      <th>Survived</th>\n",
       "      <td>-0.077221</td>\n",
       "      <td>1.000000</td>\n",
       "      <td>-0.359653</td>\n",
       "    </tr>\n",
       "    <tr>\n",
       "      <th>Pclass</th>\n",
       "      <td>-0.369226</td>\n",
       "      <td>-0.359653</td>\n",
       "      <td>1.000000</td>\n",
       "    </tr>\n",
       "  </tbody>\n",
       "</table>\n",
       "</div>"
      ],
      "text/plain": [
       "               Age  Survived    Pclass\n",
       "Age       1.000000 -0.077221 -0.369226\n",
       "Survived -0.077221  1.000000 -0.359653\n",
       "Pclass   -0.369226 -0.359653  1.000000"
      ]
     },
     "execution_count": 447,
     "metadata": {},
     "output_type": "execute_result"
    }
   ],
   "source": [
    "#1. the correlation between them \n",
    "titanic_cleaned[['Age','Survived','Sex','Pclass']].corr()"
   ]
  },
  {
   "cell_type": "code",
   "execution_count": 448,
   "metadata": {
    "collapsed": false
   },
   "outputs": [
    {
     "name": "stdout",
     "output_type": "stream",
     "text": [
      "Statistics For males' Age : \n",
      "count    453.000000\n",
      "mean      30.726645\n",
      "std       14.678201\n",
      "min        0.420000\n",
      "25%       21.000000\n",
      "50%       29.000000\n",
      "75%       39.000000\n",
      "max       80.000000\n",
      "Name: Age, dtype: float64\n",
      "\n",
      "Statistics For females' Age : \n",
      "count    261.000000\n",
      "mean      27.915709\n",
      "std       14.110146\n",
      "min        0.750000\n",
      "25%       18.000000\n",
      "50%       27.000000\n",
      "75%       37.000000\n",
      "max       63.000000\n",
      "Name: Age, dtype: float64\n"
     ]
    }
   ],
   "source": [
    "#2. statistics between Age and each of male and female .\n",
    "print \"Statistics For males' Age : \"\n",
    "print titanic_cleaned[titanic_cleaned['Sex']=='male']['Age'].describe()\n",
    "print \"\\nStatistics For females' Age : \"\n",
    "print titanic_cleaned[titanic_cleaned['Sex']=='female']['Age'].describe()"
   ]
  },
  {
   "cell_type": "code",
   "execution_count": 449,
   "metadata": {
    "collapsed": false
   },
   "outputs": [
    {
     "name": "stdout",
     "output_type": "stream",
     "text": [
      "Statistics For 1st class's Age : \n",
      "count    186.000000\n",
      "mean      38.233441\n",
      "std       14.802856\n",
      "min        0.920000\n",
      "25%       27.000000\n",
      "50%       37.000000\n",
      "75%       49.000000\n",
      "max       80.000000\n",
      "Name: Age, dtype: float64\n",
      "\n",
      "Statistics For 2nd class's Age : \n",
      "count    173.000000\n",
      "mean      29.877630\n",
      "std       14.001077\n",
      "min        0.670000\n",
      "25%       23.000000\n",
      "50%       29.000000\n",
      "75%       36.000000\n",
      "max       70.000000\n",
      "Name: Age, dtype: float64\n",
      "\n",
      "Statistics For 3rd class's Age : \n",
      "count    355.000000\n",
      "mean      25.140620\n",
      "std       12.495398\n",
      "min        0.420000\n",
      "25%       18.000000\n",
      "50%       24.000000\n",
      "75%       32.000000\n",
      "max       74.000000\n",
      "Name: Age, dtype: float64\n"
     ]
    }
   ],
   "source": [
    "#3. statistics between Pclasses and Age\n",
    "print \"Statistics For 1st class's Age : \"\n",
    "print titanic_cleaned[titanic_cleaned['Pclass']== 1]['Age'].describe()\n",
    "\n",
    "print \"\\nStatistics For 2nd class's Age : \"\n",
    "print titanic_cleaned[titanic_cleaned['Pclass']== 2]['Age'].describe()\n",
    "\n",
    "print \"\\nStatistics For 3rd class's Age : \"\n",
    "print titanic_cleaned[titanic_cleaned['Pclass']== 3]['Age'].describe()"
   ]
  },
  {
   "cell_type": "code",
   "execution_count": 450,
   "metadata": {
    "collapsed": false
   },
   "outputs": [
    {
     "name": "stdout",
     "output_type": "stream",
     "text": [
      "Statistics For passengers Survived's Age : \n",
      "count    290.000000\n",
      "mean      28.343690\n",
      "std       14.950952\n",
      "min        0.420000\n",
      "25%       19.000000\n",
      "50%       28.000000\n",
      "75%       36.000000\n",
      "max       80.000000\n",
      "Name: Age, dtype: float64\n",
      "Statistics For passengers didn't survive's  Age : \n",
      "count    424.000000\n",
      "mean      30.626179\n",
      "std       14.172110\n",
      "min        1.000000\n",
      "25%       21.000000\n",
      "50%       28.000000\n",
      "75%       39.000000\n",
      "max       74.000000\n",
      "Name: Age, dtype: float64\n"
     ]
    }
   ],
   "source": [
    "#4.statistics between Survival and age\n",
    "\n",
    "print \"Statistics For passengers Survived's Age : \"\n",
    "print titanic_cleaned[titanic_cleaned['Survived']== 1]['Age'].describe()\n",
    "\n",
    "\n",
    "print \"Statistics For passengers didn't survive's  Age : \"\n",
    "print titanic_cleaned[titanic_cleaned['Survived']== 0]['Age'].describe()"
   ]
  },
  {
   "cell_type": "markdown",
   "metadata": {},
   "source": [
    "----------------------------"
   ]
  },
  {
   "cell_type": "markdown",
   "metadata": {},
   "source": [
    "### Now I'll fill the missing age of a passenger by calculation the average of his \"Sex,Survived and pclass\" columns\n"
   ]
  },
  {
   "cell_type": "code",
   "execution_count": 451,
   "metadata": {
    "collapsed": false
   },
   "outputs": [],
   "source": [
    "# first make variables hold the three averages.\n",
    "male_avg = titanic_cleaned[titanic_cleaned['Sex']=='male']['Age'].mean()\n",
    "female_avg = titanic_cleaned[titanic_cleaned['Sex']=='female']['Age'].mean() \n",
    "\n",
    "class1_avg = titanic_cleaned[titanic_cleaned['Pclass']== 1]['Age'].mean()\n",
    "class2_avg = titanic_cleaned[titanic_cleaned['Pclass']== 2]['Age'].mean()\n",
    "class3_avg = titanic_cleaned[titanic_cleaned['Pclass']== 3]['Age'].mean()\n",
    "\n",
    "survived_avg =  titanic_cleaned[titanic_cleaned['Survived']== 1]['Age'].mean()\n",
    "not_survived_avg = titanic_cleaned[titanic_cleaned['Survived']== 0]['Age'].mean()\n",
    "\n"
   ]
  },
  {
   "cell_type": "code",
   "execution_count": 452,
   "metadata": {
    "collapsed": true
   },
   "outputs": [],
   "source": [
    "# a new data set to hold \"titanic\" with filled missing data\n",
    "\n",
    "titanic_filled = titanic"
   ]
  },
  {
   "cell_type": "code",
   "execution_count": 453,
   "metadata": {
    "collapsed": false
   },
   "outputs": [],
   "source": [
    "# make a function that takes a person if his age is not a number return without effect ,\n",
    "# otherwise, fix his age and return the new series.\n",
    "# then it will be called using apply.\n",
    "\n",
    "def fill_missings(person):\n",
    "\n",
    "    if not np.isnan(person['Age']) : return person\n",
    "    # set variables.\n",
    "    if person['Sex'] == 'male' :\n",
    "        sex = male_avg\n",
    "    else :\n",
    "        sex = female_avg\n",
    "        \n",
    "    if person['Survived']:\n",
    "        survived = survived_avg\n",
    "    else :\n",
    "        survived = not_survived_avg\n",
    "        \n",
    "    if person['Pclass']  == 1 :\n",
    "        pclass = class1_avg\n",
    "    elif person ['Pclass'] == 2 :\n",
    "        pclass = class2_avg\n",
    "    else :\n",
    "        pclass = class3_avg\n",
    "    \n",
    "    # Now calculate the age  :\n",
    "    person['Age'] = (sex + survived + pclass)/4.0\n",
    "    \n",
    "    return person"
   ]
  },
  {
   "cell_type": "code",
   "execution_count": 454,
   "metadata": {
    "collapsed": false
   },
   "outputs": [],
   "source": [
    "# Now apply the function to all passengers :\n",
    "\n",
    "titanic_filled = titanic_filled.apply(fill_missings, axis=1)"
   ]
  },
  {
   "cell_type": "code",
   "execution_count": 455,
   "metadata": {
    "collapsed": false
   },
   "outputs": [],
   "source": [
    "# And save the data set to a CSV file.\n",
    "#change it to True to execute\n",
    "if False :\n",
    "    titanic_filled.to_csv(\"./titanic_filled.csv\",index=False)"
   ]
  },
  {
   "cell_type": "markdown",
   "metadata": {},
   "source": [
    "----"
   ]
  }
 ],
 "metadata": {
  "anaconda-cloud": {},
  "kernelspec": {
   "display_name": "Python [default]",
   "language": "python",
   "name": "python2"
  },
  "language_info": {
   "codemirror_mode": {
    "name": "ipython",
    "version": 2
   },
   "file_extension": ".py",
   "mimetype": "text/x-python",
   "name": "python",
   "nbconvert_exporter": "python",
   "pygments_lexer": "ipython2",
   "version": "2.7.12"
  }
 },
 "nbformat": 4,
 "nbformat_minor": 1
}
